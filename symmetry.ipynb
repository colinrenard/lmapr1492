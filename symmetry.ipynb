{
 "cells": [
  {
   "cell_type": "code",
   "execution_count": 225,
   "id": "e976abd3",
   "metadata": {},
   "outputs": [],
   "source": [
    "from pymatgen.ext.matproj import MPRester\n",
    "from pymatgen import Structure\n",
    "from pymatgen.symmetry.analyzer import SpacegroupAnalyzer\n",
    "from jupyter_jsmol.pymatgen import quick_view\n",
    "\n",
    "with MPRester(\"rtIvjK8boEIrBtPMF\") as m:\n",
    "\n",
    "    # Crée la structure pour le matériau considéré\n",
    "    structure = m.get_structure_by_material_id(\"mp-1011695\", conventional_unit_cell=True)"
   ]
  },
  {
   "cell_type": "markdown",
   "id": "e9c92a64",
   "metadata": {},
   "source": [
    "On choisit de considérer la maille conventionnelle pour observer plus facilement les symétries. Le cristal considéré est le $Ce_2Se$."
   ]
  },
  {
   "cell_type": "code",
   "execution_count": 226,
   "id": "38749fd9",
   "metadata": {
    "scrolled": false
   },
   "outputs": [
    {
     "data": {
      "application/vnd.jupyter.widget-view+json": {
       "model_id": "b6c9b52a95ed4c09a93e8032c8dce922",
       "version_major": 2,
       "version_minor": 0
      },
      "text/plain": [
       "JsmolView(layout=Layout(align_self='stretch', height='400px'))"
      ]
     },
     "metadata": {},
     "output_type": "display_data"
    }
   ],
   "source": [
    "# Création du spacegroup analyzer et des sites du cristal, et représentation de ce dernier.\n",
    "sga = SpacegroupAnalyzer(structure)\n",
    "\n",
    "sites = structure.sites\n",
    "\n",
    "cristal_view = quick_view(structure, supercell=[2,2,2])\n",
    "display(cristal_view)\n"
   ]
  },
  {
   "cell_type": "code",
   "execution_count": 227,
   "id": "3699b9f2",
   "metadata": {
    "scrolled": true
   },
   "outputs": [],
   "source": [
    "# On stocke les différentes symétries.\n",
    "sym = sga.get_symmetry_operations()\n",
    "\n",
    "# Opérations de symétrie considérées\n",
    "first_sym = sym[1]\n",
    "second_sym = sym[13]\n",
    "third_sym = sym[100]"
   ]
  },
  {
   "cell_type": "markdown",
   "id": "ef56deac",
   "metadata": {},
   "source": [
    "# Première opération de symétrie : Inversion\n",
    "\n",
    "La première opération de symétrie analysée est l'inversion. Il s'agit d'une opération de deuxième espèce qui inverse la chiralité, pour laquelle chaque atome est envoyé sur la position correspondant aux coordonnées opposées à celles de l'atome avant l'opération. Mathématiquement, cela se traduit comme suit:\n",
    "\n",
    "$$ \\begin{bmatrix} -1 & 0 & 0 \\\\ 0 & -1 & 0 \\\\ 0 & 0 & -1 \\end{bmatrix} \\begin{bmatrix} x \\\\ y \\\\ z \\end{bmatrix} = \\begin{bmatrix} -x \\\\ -y \\\\ -z \\end{bmatrix} $$\n",
    "\n",
    "On observe bien que le déterminant de l'opérateur d'inversion vaut -1, ce qui confirme l'inversion de chiralité.\n",
    "\n",
    "Afin d'observer l'effet de l'opération sur un atome, considérons l'atome de césium ayant comme position (exprimée en coordonnées réduites) :  $ \\begin{pmatrix} 0.25 & 0.25 & 0.75 \\end{pmatrix} $.\n",
    "\n",
    "L'opération d'inversion envoie cet atome sur la position suivante : $ \\begin{pmatrix} -0.25 & -0.25 & -0.75 \\end{pmatrix} $.\n",
    "Ceci est observé sur l'animation suivante."
   ]
  },
  {
   "cell_type": "code",
   "execution_count": 228,
   "id": "aff7d247",
   "metadata": {},
   "outputs": [
    {
     "data": {
      "application/vnd.jupyter.widget-view+json": {
       "model_id": "9ca1ce98cca74f9fbee4bc5c7261f575",
       "version_major": 2,
       "version_minor": 0
      },
      "text/plain": [
       "JsmolView(layout=Layout(align_self='stretch', height='400px'))"
      ]
     },
     "metadata": {},
     "output_type": "display_data"
    },
    {
     "name": "stdout",
     "output_type": "stream",
     "text": [
      "Coordonnées de l'atome de référence avant l'opération d'inversion :  [0.25 0.25 0.75]\n",
      "Coordonnées de l'atome de référence après l'opération d'inversion :  [-0.25 -0.25 -0.75]\n"
     ]
    }
   ],
   "source": [
    "# représentation de l'opération\n",
    "view = quick_view(structure,supercell=[1,1,1])\n",
    "display(view)\n",
    "view.script('draw symop 2 {atomno = 11}; select atomno=11; color red')\n",
    "\n",
    "# Atome de référence sur lequel sera appliquée l'opération de symétrie.\n",
    "ref_atom = sites[0].frac_coords\n",
    "\n",
    "inv_pos = first_sym.operate(ref_atom)\n",
    "print(\"Coordonnées de l'atome de référence avant l'opération d'inversion : \", ref_atom)\n",
    "print(\"Coordonnées de l'atome de référence après l'opération d'inversion : \", inv_pos)"
   ]
  },
  {
   "cell_type": "markdown",
   "id": "06b87e59",
   "metadata": {},
   "source": [
    "# Deuxième opération de symétrie : Réflexion\n",
    "\n",
    "La deuxième opération de symétrie considérée est une réflexion autour du plan xz. Cette opération est elle aussi de deuxième espèce et inverse donc la chiralité. On observera ainsi que le déterminant de la matrice représentant l'opération vaut -1. En pratique, la réflexion autour du plan xz change le signe de la composante en y de l'élément sur lequel elle s'applique. Mathématiquement, cela donne :  \n",
    "\n",
    "$$ \\begin{bmatrix} 1 & 0 & 0 \\\\ 0 & -1 & 0 \\\\ 0 & 0 & 1 \\end{bmatrix} \\begin{bmatrix} x \\\\ y \\\\ z \\end{bmatrix} = \\begin{bmatrix} x \\\\ -y \\\\ z \\end{bmatrix} $$\n",
    "\n",
    "Afin d'observer l'effet de l'opération sur un atome, considérons l'atome de sélénium ayant comme position (exprimée en coordonnées réduites) :  $ \\begin{pmatrix} 0.5 & 0.5 & 0 \\end{pmatrix} $.\n",
    "\n",
    "L'opération de réflexion envoie cet atome sur la position suivante : $ \\begin{pmatrix} 0.5 & -0.5 & 0 \\end{pmatrix} $.\n",
    "Ceci est observé sur l'animation suivante."
   ]
  },
  {
   "cell_type": "code",
   "execution_count": 229,
   "id": "394821a9",
   "metadata": {},
   "outputs": [
    {
     "data": {
      "application/vnd.jupyter.widget-view+json": {
       "model_id": "d300781d72a243248b0a8f7af812f4bc",
       "version_major": 2,
       "version_minor": 0
      },
      "text/plain": [
       "JsmolView(layout=Layout(align_self='stretch', height='400px'))"
      ]
     },
     "metadata": {},
     "output_type": "display_data"
    },
    {
     "name": "stdout",
     "output_type": "stream",
     "text": [
      "Coordonnées de l'atome de référence avant l'opération d'inversion :  [0.5 0.5 0. ]\n",
      "Coordonnées de l'atome de référence après l'opération d'inversion :  [ 0.5 -0.5  0. ]\n"
     ]
    }
   ],
   "source": [
    "# représentation de l'opération\n",
    "view = quick_view(structure,supercell=[1,1,1])\n",
    "display(view)\n",
    "view.script('draw symop 14 {atomno = 17}; select atomno=17; color red')\n",
    "\n",
    "# Atome de référence sur lequel sera appliquée l'opération de symétrie.\n",
    "ref_atom = sites[-1].frac_coords\n",
    "\n",
    "inv_pos = second_sym.operate(ref_atom)\n",
    "print(\"Coordonnées de l'atome de référence avant l'opération d'inversion : \", ref_atom)\n",
    "print(\"Coordonnées de l'atome de référence après l'opération d'inversion : \", inv_pos)\n"
   ]
  },
  {
   "cell_type": "markdown",
   "id": "050088a3",
   "metadata": {},
   "source": [
    "# Troisième opération de symétrie : rotation hélicoïdale\n",
    "\n",
    "La troisième opération de symétrie considérée est une rotation hélicoïdale $2_1$. Elle consiste en une rotation de 180 degrés autour de l'axe engendré par le vecteur $ \\begin{pmatrix} 0.5 & 0 & 0.5 \\end{pmatrix} $ suivie d'une translation décrite par ce dernier . Mathématiquement, on obtient : \n",
    "\n",
    "$$ \\begin{bmatrix} -1 & 0 & 0 \\\\ 0 & -1 & 0 \\\\ 0 & 0 & 1 \\end{bmatrix} \\begin{bmatrix} x \\\\ y \\\\ z \\end{bmatrix} + \\begin{bmatrix} 0.5 \\\\ 0 \\\\ 0.5 \\end{bmatrix} = \\begin{bmatrix} -x+0.5 \\\\ -y \\\\ z+0.5 \\end{bmatrix} $$\n",
    "\n",
    "Afin d'observer l'effet de l'opération sur un atome, considérons l'atome de césium ayant comme position (exprimée en coordonnées réduites) :  $ \\begin{pmatrix} 0.75 & 0.75 & 0.75 \\end{pmatrix} $.\n",
    "\n",
    "L'opération de rotation hélicoïdale $2_1$ considérée envoie cet atome sur la position suivante : $ \\begin{pmatrix} -0.25 & -0.75 & 1.25 \\end{pmatrix} $.\n",
    "Ceci est observé sur l'animation suivante, et vérifie l'équation ci-dessus.\n"
   ]
  },
  {
   "cell_type": "code",
   "execution_count": 231,
   "id": "c5e504c8",
   "metadata": {},
   "outputs": [
    {
     "data": {
      "application/vnd.jupyter.widget-view+json": {
       "model_id": "0ef13c85153a44f489992eb65fb3f1c6",
       "version_major": 2,
       "version_minor": 0
      },
      "text/plain": [
       "JsmolView(layout=Layout(align_self='stretch', height='400px'))"
      ]
     },
     "metadata": {},
     "output_type": "display_data"
    },
    {
     "name": "stdout",
     "output_type": "stream",
     "text": [
      "Coordonnées de l'atome de référence avant l'opération d'inversion :  [0.75 0.75 0.75]\n",
      "Coordonnées de l'atome de référence après l'opération d'inversion :  [-0.25 -0.75  1.25]\n"
     ]
    }
   ],
   "source": [
    "# représentation de l'opération\n",
    "view = quick_view(structure,supercell=[1,1,1])\n",
    "display(view)\n",
    "view.script('draw symop 101 {atomno = 3}; select atomno=3; color red')\n",
    "#1 et 3\n",
    "\n",
    "# Atome de référence sur lequel sera appliquée l'opération de symétrie.\n",
    "ref_atom = sites[6].frac_coords\n",
    "\n",
    "inv_pos = third_sym.operate(ref_atom)\n",
    "print(\"Coordonnées de l'atome de référence avant l'opération d'inversion : \", ref_atom)\n",
    "print(\"Coordonnées de l'atome de référence après l'opération d'inversion : \", inv_pos)"
   ]
  },
  {
   "cell_type": "code",
   "execution_count": null,
   "id": "ba838dfd",
   "metadata": {},
   "outputs": [],
   "source": []
  }
 ],
 "metadata": {
  "kernelspec": {
   "display_name": "Python 3",
   "language": "python",
   "name": "python3"
  },
  "language_info": {
   "codemirror_mode": {
    "name": "ipython",
    "version": 3
   },
   "file_extension": ".py",
   "mimetype": "text/x-python",
   "name": "python",
   "nbconvert_exporter": "python",
   "pygments_lexer": "ipython3",
   "version": "3.6.8"
  }
 },
 "nbformat": 4,
 "nbformat_minor": 5
}
