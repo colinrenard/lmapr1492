{
 "cells": [
  {
   "cell_type": "code",
   "execution_count": 55,
   "id": "338de2d5",
   "metadata": {},
   "outputs": [],
   "source": [
    "from pymatgen.ext.matproj import MPRester\n",
    "from pymatgen import Structure\n",
    "from pymatgen.symmetry.analyzer import SpacegroupAnalyzer\n",
    "\n",
    "with MPRester(\"rtIvjK8boEIrBtPMF\") as m:\n",
    "\n",
    "    # Structure for material id\n",
    "    struct = m.get_structure_by_material_id(\"mp-1011695\")"
   ]
  },
  {
   "cell_type": "code",
   "execution_count": 56,
   "id": "6b69b923",
   "metadata": {},
   "outputs": [
    {
     "name": "stdout",
     "output_type": "stream",
     "text": [
      "Vecteurs de base du réseau direct :\n",
      "0.000000 4.253274 4.253274\n",
      "4.253274 0.000000 4.253274\n",
      "4.253274 4.253274 0.000000\n"
     ]
    }
   ],
   "source": [
    "print(\"Vecteurs de base du réseau direct :\")\n",
    "lattice = struct.lattice\n",
    "print(lattice)"
   ]
  },
  {
   "cell_type": "code",
   "execution_count": 57,
   "id": "bdad0b4c",
   "metadata": {},
   "outputs": [
    {
     "name": "stdout",
     "output_type": "stream",
     "text": [
      "Vecteurs de base du réseau réciproque : \n",
      "-0.738629 0.738629 0.738629\n",
      "0.738629 -0.738629 0.738629\n",
      "0.738629 0.738629 -0.738629\n"
     ]
    }
   ],
   "source": [
    "print(\"Vecteurs de base du réseau réciproque : \")\n",
    "lattice_rec = struct.lattice.reciprocal_lattice\n",
    "print(lattice_rec)"
   ]
  },
  {
   "cell_type": "code",
   "execution_count": 58,
   "id": "b7033991",
   "metadata": {},
   "outputs": [],
   "source": [
    "sganalyzer = SpacegroupAnalyzer(struct)"
   ]
  },
  {
   "cell_type": "code",
   "execution_count": 59,
   "id": "a567bad9",
   "metadata": {},
   "outputs": [
    {
     "name": "stdout",
     "output_type": "stream",
     "text": [
      "Type de maille : \n",
      "cubic\n"
     ]
    }
   ],
   "source": [
    "print(\"Type de maille : \")\n",
    "lattice_type = sganalyzer.get_lattice_type()\n",
    "print(lattice_type)"
   ]
  },
  {
   "cell_type": "code",
   "execution_count": 60,
   "id": "9c625a25",
   "metadata": {},
   "outputs": [
    {
     "name": "stdout",
     "output_type": "stream",
     "text": [
      "Système cristallin : \n",
      "cubic\n"
     ]
    }
   ],
   "source": [
    "print(\"Système cristallin : \")\n",
    "crist_syst = sganalyzer.get_crystal_system()\n",
    "print(crist_syst)"
   ]
  },
  {
   "cell_type": "code",
   "execution_count": 61,
   "id": "7567d97d",
   "metadata": {},
   "outputs": [
    {
     "name": "stdout",
     "output_type": "stream",
     "text": [
      "Groupe ponctuel : \n",
      "m-3m\n"
     ]
    }
   ],
   "source": [
    "print(\"Groupe ponctuel : \")\n",
    "pgroup = sganalyzer.get_point_group_symbol()\n",
    "print(pgroup)"
   ]
  },
  {
   "cell_type": "code",
   "execution_count": null,
   "id": "256d8655",
   "metadata": {},
   "outputs": [],
   "source": []
  },
  {
   "cell_type": "code",
   "execution_count": null,
   "id": "ab9d94e7",
   "metadata": {},
   "outputs": [],
   "source": []
  }
 ],
 "metadata": {
  "kernelspec": {
   "display_name": "Python 3",
   "language": "python",
   "name": "python3"
  },
  "language_info": {
   "codemirror_mode": {
    "name": "ipython",
    "version": 3
   },
   "file_extension": ".py",
   "mimetype": "text/x-python",
   "name": "python",
   "nbconvert_exporter": "python",
   "pygments_lexer": "ipython3",
   "version": "3.6.8"
  }
 },
 "nbformat": 4,
 "nbformat_minor": 5
}
